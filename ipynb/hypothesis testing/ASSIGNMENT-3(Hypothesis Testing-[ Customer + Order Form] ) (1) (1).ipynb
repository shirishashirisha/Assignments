{
 "cells": [
  {
   "cell_type": "code",
   "execution_count": 38,
   "id": "ee8de65b",
   "metadata": {
    "ExecuteTime": {
     "end_time": "2022-11-10T06:48:16.280185Z",
     "start_time": "2022-11-10T06:48:16.257258Z"
    }
   },
   "outputs": [],
   "source": [
    "import numpy as np\n",
    "import pandas as pd\n",
    "import scipy.stats as stats\n",
    "import statsmodels.api as sm\n",
    "import warnings\n",
    "warnings.filterwarnings(\"ignore\")\n",
    "from PIL import ImageGrab\n",
    "import matplotlib.pyplot as plt\n",
    "import seaborn as sns\n"
   ]
  },
  {
   "cell_type": "code",
   "execution_count": 39,
   "id": "ac49196a",
   "metadata": {
    "ExecuteTime": {
     "end_time": "2022-11-10T06:48:16.327929Z",
     "start_time": "2022-11-10T06:48:16.284429Z"
    }
   },
   "outputs": [],
   "source": [
    "# We are going to conduct a Test of Independence using Chi-Square  test with Contingency table\n"
   ]
  },
  {
   "cell_type": "code",
   "execution_count": 40,
   "id": "93d4b226",
   "metadata": {
    "ExecuteTime": {
     "end_time": "2022-11-10T06:48:16.351092Z",
     "start_time": "2022-11-10T06:48:16.332546Z"
    }
   },
   "outputs": [],
   "source": [
    "# IMPORTIMG FILES"
   ]
  },
  {
   "cell_type": "code",
   "execution_count": 41,
   "id": "e8f4834b",
   "metadata": {
    "ExecuteTime": {
     "end_time": "2022-11-10T06:48:16.375190Z",
     "start_time": "2022-11-10T06:48:16.354266Z"
    }
   },
   "outputs": [
    {
     "data": {
      "text/html": [
       "<div>\n",
       "<style scoped>\n",
       "    .dataframe tbody tr th:only-of-type {\n",
       "        vertical-align: middle;\n",
       "    }\n",
       "\n",
       "    .dataframe tbody tr th {\n",
       "        vertical-align: top;\n",
       "    }\n",
       "\n",
       "    .dataframe thead th {\n",
       "        text-align: right;\n",
       "    }\n",
       "</style>\n",
       "<table border=\"1\" class=\"dataframe\">\n",
       "  <thead>\n",
       "    <tr style=\"text-align: right;\">\n",
       "      <th></th>\n",
       "      <th>Phillippines</th>\n",
       "      <th>Indonesia</th>\n",
       "      <th>Malta</th>\n",
       "      <th>India</th>\n",
       "    </tr>\n",
       "  </thead>\n",
       "  <tbody>\n",
       "    <tr>\n",
       "      <th>0</th>\n",
       "      <td>Error Free</td>\n",
       "      <td>Error Free</td>\n",
       "      <td>Defective</td>\n",
       "      <td>Error Free</td>\n",
       "    </tr>\n",
       "    <tr>\n",
       "      <th>1</th>\n",
       "      <td>Error Free</td>\n",
       "      <td>Error Free</td>\n",
       "      <td>Error Free</td>\n",
       "      <td>Defective</td>\n",
       "    </tr>\n",
       "    <tr>\n",
       "      <th>2</th>\n",
       "      <td>Error Free</td>\n",
       "      <td>Defective</td>\n",
       "      <td>Defective</td>\n",
       "      <td>Error Free</td>\n",
       "    </tr>\n",
       "    <tr>\n",
       "      <th>3</th>\n",
       "      <td>Error Free</td>\n",
       "      <td>Error Free</td>\n",
       "      <td>Error Free</td>\n",
       "      <td>Error Free</td>\n",
       "    </tr>\n",
       "    <tr>\n",
       "      <th>4</th>\n",
       "      <td>Error Free</td>\n",
       "      <td>Error Free</td>\n",
       "      <td>Defective</td>\n",
       "      <td>Error Free</td>\n",
       "    </tr>\n",
       "    <tr>\n",
       "      <th>5</th>\n",
       "      <td>Error Free</td>\n",
       "      <td>Error Free</td>\n",
       "      <td>Error Free</td>\n",
       "      <td>Error Free</td>\n",
       "    </tr>\n",
       "    <tr>\n",
       "      <th>6</th>\n",
       "      <td>Error Free</td>\n",
       "      <td>Defective</td>\n",
       "      <td>Error Free</td>\n",
       "      <td>Error Free</td>\n",
       "    </tr>\n",
       "    <tr>\n",
       "      <th>7</th>\n",
       "      <td>Error Free</td>\n",
       "      <td>Error Free</td>\n",
       "      <td>Error Free</td>\n",
       "      <td>Error Free</td>\n",
       "    </tr>\n",
       "    <tr>\n",
       "      <th>8</th>\n",
       "      <td>Error Free</td>\n",
       "      <td>Error Free</td>\n",
       "      <td>Error Free</td>\n",
       "      <td>Error Free</td>\n",
       "    </tr>\n",
       "    <tr>\n",
       "      <th>9</th>\n",
       "      <td>Error Free</td>\n",
       "      <td>Error Free</td>\n",
       "      <td>Error Free</td>\n",
       "      <td>Error Free</td>\n",
       "    </tr>\n",
       "    <tr>\n",
       "      <th>10</th>\n",
       "      <td>Defective</td>\n",
       "      <td>Error Free</td>\n",
       "      <td>Error Free</td>\n",
       "      <td>Error Free</td>\n",
       "    </tr>\n",
       "    <tr>\n",
       "      <th>11</th>\n",
       "      <td>Error Free</td>\n",
       "      <td>Error Free</td>\n",
       "      <td>Error Free</td>\n",
       "      <td>Error Free</td>\n",
       "    </tr>\n",
       "    <tr>\n",
       "      <th>12</th>\n",
       "      <td>Error Free</td>\n",
       "      <td>Error Free</td>\n",
       "      <td>Error Free</td>\n",
       "      <td>Defective</td>\n",
       "    </tr>\n",
       "    <tr>\n",
       "      <th>13</th>\n",
       "      <td>Error Free</td>\n",
       "      <td>Error Free</td>\n",
       "      <td>Error Free</td>\n",
       "      <td>Error Free</td>\n",
       "    </tr>\n",
       "    <tr>\n",
       "      <th>14</th>\n",
       "      <td>Error Free</td>\n",
       "      <td>Error Free</td>\n",
       "      <td>Error Free</td>\n",
       "      <td>Error Free</td>\n",
       "    </tr>\n",
       "    <tr>\n",
       "      <th>15</th>\n",
       "      <td>Error Free</td>\n",
       "      <td>Error Free</td>\n",
       "      <td>Defective</td>\n",
       "      <td>Error Free</td>\n",
       "    </tr>\n",
       "    <tr>\n",
       "      <th>16</th>\n",
       "      <td>Error Free</td>\n",
       "      <td>Error Free</td>\n",
       "      <td>Error Free</td>\n",
       "      <td>Error Free</td>\n",
       "    </tr>\n",
       "    <tr>\n",
       "      <th>17</th>\n",
       "      <td>Error Free</td>\n",
       "      <td>Error Free</td>\n",
       "      <td>Error Free</td>\n",
       "      <td>Error Free</td>\n",
       "    </tr>\n",
       "    <tr>\n",
       "      <th>18</th>\n",
       "      <td>Error Free</td>\n",
       "      <td>Error Free</td>\n",
       "      <td>Error Free</td>\n",
       "      <td>Error Free</td>\n",
       "    </tr>\n",
       "    <tr>\n",
       "      <th>19</th>\n",
       "      <td>Defective</td>\n",
       "      <td>Error Free</td>\n",
       "      <td>Error Free</td>\n",
       "      <td>Defective</td>\n",
       "    </tr>\n",
       "    <tr>\n",
       "      <th>20</th>\n",
       "      <td>Error Free</td>\n",
       "      <td>Error Free</td>\n",
       "      <td>Error Free</td>\n",
       "      <td>Error Free</td>\n",
       "    </tr>\n",
       "    <tr>\n",
       "      <th>21</th>\n",
       "      <td>Error Free</td>\n",
       "      <td>Error Free</td>\n",
       "      <td>Defective</td>\n",
       "      <td>Error Free</td>\n",
       "    </tr>\n",
       "    <tr>\n",
       "      <th>22</th>\n",
       "      <td>Error Free</td>\n",
       "      <td>Error Free</td>\n",
       "      <td>Error Free</td>\n",
       "      <td>Error Free</td>\n",
       "    </tr>\n",
       "    <tr>\n",
       "      <th>23</th>\n",
       "      <td>Defective</td>\n",
       "      <td>Error Free</td>\n",
       "      <td>Error Free</td>\n",
       "      <td>Error Free</td>\n",
       "    </tr>\n",
       "    <tr>\n",
       "      <th>24</th>\n",
       "      <td>Error Free</td>\n",
       "      <td>Error Free</td>\n",
       "      <td>Error Free</td>\n",
       "      <td>Error Free</td>\n",
       "    </tr>\n",
       "    <tr>\n",
       "      <th>25</th>\n",
       "      <td>Error Free</td>\n",
       "      <td>Error Free</td>\n",
       "      <td>Error Free</td>\n",
       "      <td>Error Free</td>\n",
       "    </tr>\n",
       "    <tr>\n",
       "      <th>26</th>\n",
       "      <td>Error Free</td>\n",
       "      <td>Error Free</td>\n",
       "      <td>Error Free</td>\n",
       "      <td>Error Free</td>\n",
       "    </tr>\n",
       "    <tr>\n",
       "      <th>27</th>\n",
       "      <td>Error Free</td>\n",
       "      <td>Error Free</td>\n",
       "      <td>Error Free</td>\n",
       "      <td>Error Free</td>\n",
       "    </tr>\n",
       "    <tr>\n",
       "      <th>28</th>\n",
       "      <td>Error Free</td>\n",
       "      <td>Error Free</td>\n",
       "      <td>Error Free</td>\n",
       "      <td>Error Free</td>\n",
       "    </tr>\n",
       "    <tr>\n",
       "      <th>29</th>\n",
       "      <td>Error Free</td>\n",
       "      <td>Error Free</td>\n",
       "      <td>Error Free</td>\n",
       "      <td>Error Free</td>\n",
       "    </tr>\n",
       "  </tbody>\n",
       "</table>\n",
       "</div>"
      ],
      "text/plain": [
       "   Phillippines   Indonesia       Malta       India\n",
       "0    Error Free  Error Free   Defective  Error Free\n",
       "1    Error Free  Error Free  Error Free   Defective\n",
       "2    Error Free   Defective   Defective  Error Free\n",
       "3    Error Free  Error Free  Error Free  Error Free\n",
       "4    Error Free  Error Free   Defective  Error Free\n",
       "5    Error Free  Error Free  Error Free  Error Free\n",
       "6    Error Free   Defective  Error Free  Error Free\n",
       "7    Error Free  Error Free  Error Free  Error Free\n",
       "8    Error Free  Error Free  Error Free  Error Free\n",
       "9    Error Free  Error Free  Error Free  Error Free\n",
       "10    Defective  Error Free  Error Free  Error Free\n",
       "11   Error Free  Error Free  Error Free  Error Free\n",
       "12   Error Free  Error Free  Error Free   Defective\n",
       "13   Error Free  Error Free  Error Free  Error Free\n",
       "14   Error Free  Error Free  Error Free  Error Free\n",
       "15   Error Free  Error Free   Defective  Error Free\n",
       "16   Error Free  Error Free  Error Free  Error Free\n",
       "17   Error Free  Error Free  Error Free  Error Free\n",
       "18   Error Free  Error Free  Error Free  Error Free\n",
       "19    Defective  Error Free  Error Free   Defective\n",
       "20   Error Free  Error Free  Error Free  Error Free\n",
       "21   Error Free  Error Free   Defective  Error Free\n",
       "22   Error Free  Error Free  Error Free  Error Free\n",
       "23    Defective  Error Free  Error Free  Error Free\n",
       "24   Error Free  Error Free  Error Free  Error Free\n",
       "25   Error Free  Error Free  Error Free  Error Free\n",
       "26   Error Free  Error Free  Error Free  Error Free\n",
       "27   Error Free  Error Free  Error Free  Error Free\n",
       "28   Error Free  Error Free  Error Free  Error Free\n",
       "29   Error Free  Error Free  Error Free  Error Free"
      ]
     },
     "execution_count": 41,
     "metadata": {},
     "output_type": "execute_result"
    }
   ],
   "source": [
    "df=pd.read_csv(\"Costomer+OrderForm.csv\")\n",
    "df.head(30) "
   ]
  },
  {
   "cell_type": "code",
   "execution_count": 42,
   "id": "4678ff7f",
   "metadata": {
    "ExecuteTime": {
     "end_time": "2022-11-10T06:48:16.403534Z",
     "start_time": "2022-11-10T06:48:16.377533Z"
    }
   },
   "outputs": [
    {
     "data": {
      "text/html": [
       "<div>\n",
       "<style scoped>\n",
       "    .dataframe tbody tr th:only-of-type {\n",
       "        vertical-align: middle;\n",
       "    }\n",
       "\n",
       "    .dataframe tbody tr th {\n",
       "        vertical-align: top;\n",
       "    }\n",
       "\n",
       "    .dataframe thead th {\n",
       "        text-align: right;\n",
       "    }\n",
       "</style>\n",
       "<table border=\"1\" class=\"dataframe\">\n",
       "  <thead>\n",
       "    <tr style=\"text-align: right;\">\n",
       "      <th></th>\n",
       "      <th>Phillippines</th>\n",
       "      <th>Indonesia</th>\n",
       "      <th>Malta</th>\n",
       "      <th>India</th>\n",
       "    </tr>\n",
       "  </thead>\n",
       "  <tbody>\n",
       "    <tr>\n",
       "      <th>count</th>\n",
       "      <td>300</td>\n",
       "      <td>300</td>\n",
       "      <td>300</td>\n",
       "      <td>300</td>\n",
       "    </tr>\n",
       "    <tr>\n",
       "      <th>unique</th>\n",
       "      <td>2</td>\n",
       "      <td>2</td>\n",
       "      <td>2</td>\n",
       "      <td>2</td>\n",
       "    </tr>\n",
       "    <tr>\n",
       "      <th>top</th>\n",
       "      <td>Error Free</td>\n",
       "      <td>Error Free</td>\n",
       "      <td>Error Free</td>\n",
       "      <td>Error Free</td>\n",
       "    </tr>\n",
       "    <tr>\n",
       "      <th>freq</th>\n",
       "      <td>271</td>\n",
       "      <td>267</td>\n",
       "      <td>269</td>\n",
       "      <td>280</td>\n",
       "    </tr>\n",
       "  </tbody>\n",
       "</table>\n",
       "</div>"
      ],
      "text/plain": [
       "       Phillippines   Indonesia       Malta       India\n",
       "count           300         300         300         300\n",
       "unique            2           2           2           2\n",
       "top      Error Free  Error Free  Error Free  Error Free\n",
       "freq            271         267         269         280"
      ]
     },
     "execution_count": 42,
     "metadata": {},
     "output_type": "execute_result"
    }
   ],
   "source": [
    "df.describe() "
   ]
  },
  {
   "cell_type": "code",
   "execution_count": 43,
   "id": "1a02329f",
   "metadata": {
    "ExecuteTime": {
     "end_time": "2022-11-10T06:48:16.432166Z",
     "start_time": "2022-11-10T06:48:16.406465Z"
    }
   },
   "outputs": [
    {
     "data": {
      "text/plain": [
       "Phillippines    0\n",
       "Indonesia       0\n",
       "Malta           0\n",
       "India           0\n",
       "dtype: int64"
      ]
     },
     "execution_count": 43,
     "metadata": {},
     "output_type": "execute_result"
    }
   ],
   "source": [
    "#Checking for Null Values\n",
    "df.isnull().sum()"
   ]
  },
  {
   "cell_type": "code",
   "execution_count": 44,
   "id": "42d26e7f",
   "metadata": {
    "ExecuteTime": {
     "end_time": "2022-11-10T06:48:16.451180Z",
     "start_time": "2022-11-10T06:48:16.434839Z"
    }
   },
   "outputs": [
    {
     "data": {
      "text/plain": [
       "(290, 4)"
      ]
     },
     "execution_count": 44,
     "metadata": {},
     "output_type": "execute_result"
    }
   ],
   "source": [
    "#Checking for Duplicate Values\n",
    "df[df.duplicated()].shape\n"
   ]
  },
  {
   "cell_type": "code",
   "execution_count": 45,
   "id": "b6618198",
   "metadata": {
    "ExecuteTime": {
     "end_time": "2022-11-10T06:48:16.467696Z",
     "start_time": "2022-11-10T06:48:16.453933Z"
    }
   },
   "outputs": [
    {
     "data": {
      "text/html": [
       "<div>\n",
       "<style scoped>\n",
       "    .dataframe tbody tr th:only-of-type {\n",
       "        vertical-align: middle;\n",
       "    }\n",
       "\n",
       "    .dataframe tbody tr th {\n",
       "        vertical-align: top;\n",
       "    }\n",
       "\n",
       "    .dataframe thead th {\n",
       "        text-align: right;\n",
       "    }\n",
       "</style>\n",
       "<table border=\"1\" class=\"dataframe\">\n",
       "  <thead>\n",
       "    <tr style=\"text-align: right;\">\n",
       "      <th></th>\n",
       "      <th>Phillippines</th>\n",
       "      <th>Indonesia</th>\n",
       "      <th>Malta</th>\n",
       "      <th>India</th>\n",
       "    </tr>\n",
       "  </thead>\n",
       "  <tbody>\n",
       "  </tbody>\n",
       "</table>\n",
       "</div>"
      ],
      "text/plain": [
       "Empty DataFrame\n",
       "Columns: [Phillippines, Indonesia, Malta, India]\n",
       "Index: []"
      ]
     },
     "execution_count": 45,
     "metadata": {},
     "output_type": "execute_result"
    }
   ],
   "source": [
    "df[df.isnull().any(axis=1)]\n"
   ]
  },
  {
   "cell_type": "code",
   "execution_count": 46,
   "id": "4cfb1468",
   "metadata": {
    "ExecuteTime": {
     "end_time": "2022-11-10T06:48:16.502505Z",
     "start_time": "2022-11-10T06:48:16.470716Z"
    }
   },
   "outputs": [
    {
     "name": "stdout",
     "output_type": "stream",
     "text": [
      "<class 'pandas.core.frame.DataFrame'>\n",
      "RangeIndex: 300 entries, 0 to 299\n",
      "Data columns (total 4 columns):\n",
      " #   Column        Non-Null Count  Dtype \n",
      "---  ------        --------------  ----- \n",
      " 0   Phillippines  300 non-null    object\n",
      " 1   Indonesia     300 non-null    object\n",
      " 2   Malta         300 non-null    object\n",
      " 3   India         300 non-null    object\n",
      "dtypes: object(4)\n",
      "memory usage: 9.5+ KB\n"
     ]
    }
   ],
   "source": [
    "df.info() "
   ]
  },
  {
   "cell_type": "code",
   "execution_count": 47,
   "id": "9d0938aa",
   "metadata": {
    "ExecuteTime": {
     "end_time": "2022-11-10T06:48:16.522303Z",
     "start_time": "2022-11-10T06:48:16.506740Z"
    }
   },
   "outputs": [],
   "source": [
    "#Checking value counts in data"
   ]
  },
  {
   "cell_type": "code",
   "execution_count": 51,
   "id": "c8c7bd34",
   "metadata": {
    "ExecuteTime": {
     "end_time": "2022-11-10T06:50:52.529555Z",
     "start_time": "2022-11-10T06:50:52.518218Z"
    }
   },
   "outputs": [
    {
     "name": "stdout",
     "output_type": "stream",
     "text": [
      "Error Free    271\n",
      "Defective      29\n",
      "Name: Phillippines, dtype: int64 \n",
      " Error Free    267\n",
      "Defective      33\n",
      "Name: Indonesia, dtype: int64 \n",
      " Error Free    269\n",
      "Defective      31\n",
      "Name: Malta, dtype: int64 \n",
      " Error Free    280\n",
      "Defective      20\n",
      "Name: India, dtype: int64\n"
     ]
    }
   ],
   "source": [
    "print(df['Phillippines'].value_counts(),'\\n',df['Indonesia'].value_counts(),'\\n',df['Malta'].value_counts(),'\\n',df['India'].value_counts())"
   ]
  },
  {
   "cell_type": "code",
   "execution_count": null,
   "id": "d80f426a",
   "metadata": {
    "ExecuteTime": {
     "end_time": "2022-11-10T06:48:16.560320Z",
     "start_time": "2022-11-10T06:48:16.560320Z"
    }
   },
   "outputs": [],
   "source": [
    "#Creating Contingency table\n",
    "\n",
    "contingency_table = [[271,267,269,280],\n",
    "                    [29,33,31,20]]\n",
    "print(contingency_table)\n"
   ]
  },
  {
   "cell_type": "code",
   "execution_count": null,
   "id": "3ab1b719",
   "metadata": {
    "ExecuteTime": {
     "end_time": "2022-11-10T06:48:16.563916Z",
     "start_time": "2022-11-10T06:48:16.563916Z"
    }
   },
   "outputs": [],
   "source": [
    "# Calculating Expected Values for Observed data"
   ]
  },
  {
   "cell_type": "code",
   "execution_count": null,
   "id": "b4787fda",
   "metadata": {
    "ExecuteTime": {
     "end_time": "2022-11-10T06:48:16.565806Z",
     "start_time": "2022-11-10T06:48:16.565806Z"
    },
    "scrolled": true
   },
   "outputs": [],
   "source": [
    "stat, p, df, exp = stats.chi2_contingency(contingency_table)\n",
    "print(\"Statistics = \",stat,\"\\n\",'P_Value = ', p,'\\n', 'degree of freedom =', df,'\\n', 'Expected Values = ', exp)\n"
   ]
  },
  {
   "cell_type": "code",
   "execution_count": null,
   "id": "b553f153",
   "metadata": {
    "ExecuteTime": {
     "end_time": "2022-11-10T06:48:16.567036Z",
     "start_time": "2022-11-10T06:48:16.567036Z"
    }
   },
   "outputs": [],
   "source": [
    "#Defining Expected values and observed values\n",
    "\n",
    "observed = np.array([271, 267, 269, 280, 29, 33, 31, 20])\n",
    "expected = np.array([271.75, 271.75, 271.75, 271.75, 28.25, 28.25, 28.25, 28.25])"
   ]
  },
  {
   "cell_type": "code",
   "execution_count": null,
   "id": "b54ac1ac",
   "metadata": {
    "ExecuteTime": {
     "end_time": "2022-11-10T06:48:16.570081Z",
     "start_time": "2022-11-10T06:48:16.570081Z"
    }
   },
   "outputs": [],
   "source": [
    "#Compare Evidences with Hypothesis using t-statictic"
   ]
  },
  {
   "cell_type": "code",
   "execution_count": null,
   "id": "c25ba216",
   "metadata": {
    "ExecuteTime": {
     "end_time": "2022-11-10T06:48:16.576307Z",
     "start_time": "2022-11-10T06:48:16.576307Z"
    }
   },
   "outputs": [],
   "source": [
    "test_statistic , p_value = stats.chisquare(observed, expected, ddof = df)\n",
    "print(\"Test Statistic = \",test_statistic,'\\n', 'p_value =',p_value)\n"
   ]
  },
  {
   "cell_type": "code",
   "execution_count": null,
   "id": "296d16ae",
   "metadata": {
    "ExecuteTime": {
     "end_time": "2022-11-10T06:48:16.578377Z",
     "start_time": "2022-11-10T06:48:16.578377Z"
    }
   },
   "outputs": [],
   "source": [
    "# interpreting p-value"
   ]
  },
  {
   "cell_type": "code",
   "execution_count": null,
   "id": "8d493761",
   "metadata": {
    "ExecuteTime": {
     "end_time": "2022-11-10T06:48:16.579857Z",
     "start_time": "2022-11-10T06:48:16.579857Z"
    }
   },
   "outputs": [],
   "source": [
    "alpha = 0.05\n",
    "print('Significnace=%.3f, p=%.3f' % (alpha, p_value))\n",
    "if p_value <= alpha:\n",
    "    print('We reject Null Hypothesis if defective% varies by centre ')\n",
    "else:\n",
    "    print('We accept Null hypothesis')\n"
   ]
  },
  {
   "cell_type": "code",
   "execution_count": null,
   "id": "8e176ec5",
   "metadata": {
    "ExecuteTime": {
     "end_time": "2022-11-10T06:48:16.581906Z",
     "start_time": "2022-11-10T06:48:16.581906Z"
    }
   },
   "outputs": [],
   "source": [
    "# Hence,We ACCEPT Null hypothesis.Therefore,defective% is not varied by centre."
   ]
  },
  {
   "cell_type": "code",
   "execution_count": null,
   "id": "4b0598ef",
   "metadata": {
    "ExecuteTime": {
     "end_time": "2022-11-09T13:59:08.358663Z",
     "start_time": "2022-11-09T13:59:08.334445Z"
    }
   },
   "outputs": [],
   "source": []
  },
  {
   "cell_type": "code",
   "execution_count": null,
   "id": "c66bdfbd",
   "metadata": {},
   "outputs": [],
   "source": []
  }
 ],
 "metadata": {
  "kernelspec": {
   "display_name": "Python 3 (ipykernel)",
   "language": "python",
   "name": "python3"
  },
  "language_info": {
   "codemirror_mode": {
    "name": "ipython",
    "version": 3
   },
   "file_extension": ".py",
   "mimetype": "text/x-python",
   "name": "python",
   "nbconvert_exporter": "python",
   "pygments_lexer": "ipython3",
   "version": "3.9.12"
  }
 },
 "nbformat": 4,
 "nbformat_minor": 5
}
