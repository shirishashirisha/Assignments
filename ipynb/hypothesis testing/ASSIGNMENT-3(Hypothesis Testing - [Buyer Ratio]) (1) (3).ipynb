{
 "cells": [
  {
   "cell_type": "code",
   "execution_count": 2,
   "id": "d2ae40be",
   "metadata": {
    "ExecuteTime": {
     "end_time": "2022-11-10T06:34:01.522825Z",
     "start_time": "2022-11-10T06:34:01.512229Z"
    }
   },
   "outputs": [],
   "source": [
    "import numpy as np\n",
    "import pandas as pd\n",
    "import scipy.stats as stats\n",
    "import statsmodels.api as sm\n",
    "import warnings\n",
    "warnings.filterwarnings(\"ignore\")\n",
    "from PIL import ImageGrab\n",
    "import matplotlib.pyplot as plt\n",
    "import seaborn as sns\n"
   ]
  },
  {
   "cell_type": "code",
   "execution_count": 3,
   "id": "7a306a3c",
   "metadata": {
    "ExecuteTime": {
     "end_time": "2022-11-10T06:34:02.091422Z",
     "start_time": "2022-11-10T06:34:02.083384Z"
    }
   },
   "outputs": [],
   "source": [
    "# We are going to conduct a Test of Independence using Chi-Square  test with Contingency table\n"
   ]
  },
  {
   "cell_type": "code",
   "execution_count": 4,
   "id": "58ca8a12",
   "metadata": {
    "ExecuteTime": {
     "end_time": "2022-11-10T06:34:02.544186Z",
     "start_time": "2022-11-10T06:34:02.530573Z"
    }
   },
   "outputs": [],
   "source": [
    "# IMPORTING FILES"
   ]
  },
  {
   "cell_type": "code",
   "execution_count": 5,
   "id": "9ac15ec3",
   "metadata": {
    "ExecuteTime": {
     "end_time": "2022-11-10T06:34:03.043999Z",
     "start_time": "2022-11-10T06:34:02.966864Z"
    }
   },
   "outputs": [
    {
     "data": {
      "text/html": [
       "<div>\n",
       "<style scoped>\n",
       "    .dataframe tbody tr th:only-of-type {\n",
       "        vertical-align: middle;\n",
       "    }\n",
       "\n",
       "    .dataframe tbody tr th {\n",
       "        vertical-align: top;\n",
       "    }\n",
       "\n",
       "    .dataframe thead th {\n",
       "        text-align: right;\n",
       "    }\n",
       "</style>\n",
       "<table border=\"1\" class=\"dataframe\">\n",
       "  <thead>\n",
       "    <tr style=\"text-align: right;\">\n",
       "      <th></th>\n",
       "      <th>East</th>\n",
       "      <th>West</th>\n",
       "      <th>North</th>\n",
       "      <th>South</th>\n",
       "    </tr>\n",
       "    <tr>\n",
       "      <th>Observed Values</th>\n",
       "      <th></th>\n",
       "      <th></th>\n",
       "      <th></th>\n",
       "      <th></th>\n",
       "    </tr>\n",
       "  </thead>\n",
       "  <tbody>\n",
       "    <tr>\n",
       "      <th>Males</th>\n",
       "      <td>50</td>\n",
       "      <td>142</td>\n",
       "      <td>131</td>\n",
       "      <td>70</td>\n",
       "    </tr>\n",
       "    <tr>\n",
       "      <th>Females</th>\n",
       "      <td>435</td>\n",
       "      <td>1523</td>\n",
       "      <td>1356</td>\n",
       "      <td>750</td>\n",
       "    </tr>\n",
       "  </tbody>\n",
       "</table>\n",
       "</div>"
      ],
      "text/plain": [
       "                 East  West  North  South\n",
       "Observed Values                          \n",
       "Males              50   142    131     70\n",
       "Females           435  1523   1356    750"
      ]
     },
     "execution_count": 5,
     "metadata": {},
     "output_type": "execute_result"
    }
   ],
   "source": [
    "df=pd.read_csv('BuyerRatio.csv',index_col = 0)\n",
    "df.head() "
   ]
  },
  {
   "cell_type": "code",
   "execution_count": 6,
   "id": "660af352",
   "metadata": {
    "ExecuteTime": {
     "end_time": "2022-11-10T06:34:03.395442Z",
     "start_time": "2022-11-10T06:34:03.387720Z"
    }
   },
   "outputs": [],
   "source": [
    "table = [[50,142,131,70],\n",
    "        [435,1523,1356,750]]"
   ]
  },
  {
   "cell_type": "code",
   "execution_count": 7,
   "id": "dae9d2b2",
   "metadata": {
    "ExecuteTime": {
     "end_time": "2022-11-10T06:34:03.786091Z",
     "start_time": "2022-11-10T06:34:03.770680Z"
    }
   },
   "outputs": [],
   "source": [
    "#Applying Chi-Square x2 contingency table to convert observed value into expected value\n"
   ]
  },
  {
   "cell_type": "code",
   "execution_count": 8,
   "id": "e518288c",
   "metadata": {
    "ExecuteTime": {
     "end_time": "2022-11-10T06:34:04.200690Z",
     "start_time": "2022-11-10T06:34:04.144691Z"
    }
   },
   "outputs": [
    {
     "name": "stdout",
     "output_type": "stream",
     "text": [
      "1.595945538661058 \n",
      " 0.6603094907091882 \n",
      " 3 \n",
      " [[  42.76531299  146.81287862  131.11756787   72.30424052]\n",
      " [ 442.23468701 1518.18712138 1355.88243213  747.69575948]]\n"
     ]
    }
   ],
   "source": [
    "stat, p, dof, exp = stats.chi2_contingency(df) \n",
    "print(stat,\"\\n\", p,\"\\n\", dof,\"\\n\", exp)\n"
   ]
  },
  {
   "cell_type": "code",
   "execution_count": 9,
   "id": "66882e87",
   "metadata": {
    "ExecuteTime": {
     "end_time": "2022-11-10T06:34:04.584982Z",
     "start_time": "2022-11-10T06:34:04.531085Z"
    }
   },
   "outputs": [
    {
     "data": {
      "text/plain": [
       "(1.595945538661058,\n",
       " 0.6603094907091882,\n",
       " 3,\n",
       " array([[  42.76531299,  146.81287862,  131.11756787,   72.30424052],\n",
       "        [ 442.23468701, 1518.18712138, 1355.88243213,  747.69575948]]))"
      ]
     },
     "execution_count": 9,
     "metadata": {},
     "output_type": "execute_result"
    }
   ],
   "source": [
    "stats.chi2_contingency(table) "
   ]
  },
  {
   "cell_type": "code",
   "execution_count": 10,
   "id": "44322f88",
   "metadata": {
    "ExecuteTime": {
     "end_time": "2022-11-10T06:34:04.936945Z",
     "start_time": "2022-11-10T06:34:04.919295Z"
    }
   },
   "outputs": [],
   "source": [
    "observed = np.array([50, 142, 131, 70, 435, 1523, 1356, 750])\n",
    "expected = np.array([42.76531299,  146.81287862,  131.11756787, 72.30424052, 442.23468701, 1518.18712138, 1355.88243213, 747.69575948])"
   ]
  },
  {
   "cell_type": "code",
   "execution_count": 11,
   "id": "0fa237ff",
   "metadata": {
    "ExecuteTime": {
     "end_time": "2022-11-10T06:34:05.360074Z",
     "start_time": "2022-11-10T06:34:05.344809Z"
    }
   },
   "outputs": [],
   "source": [
    "#Comparing Evidence with Hypothesis"
   ]
  },
  {
   "cell_type": "code",
   "execution_count": 12,
   "id": "ba09793c",
   "metadata": {
    "ExecuteTime": {
     "end_time": "2022-11-10T06:34:05.796058Z",
     "start_time": "2022-11-10T06:34:05.786038Z"
    }
   },
   "outputs": [
    {
     "name": "stdout",
     "output_type": "stream",
     "text": [
      "Statistics =  1.5959455390914483 \n",
      " P_Value =  0.8095206646905712\n"
     ]
    }
   ],
   "source": [
    "statistics, p_value = stats.chisquare(observed, expected, ddof = 3)\n",
    "print(\"Statistics = \",statistics,\"\\n\",'P_Value = ', p_value)\n"
   ]
  },
  {
   "cell_type": "code",
   "execution_count": 13,
   "id": "f7620d8b",
   "metadata": {
    "ExecuteTime": {
     "end_time": "2022-11-10T06:34:06.516806Z",
     "start_time": "2022-11-10T06:34:06.509379Z"
    }
   },
   "outputs": [],
   "source": [
    "#interpreting p-value\n",
    "# As it is a one-tailed test\n",
    "# alpha = 0.05"
   ]
  },
  {
   "cell_type": "code",
   "execution_count": 14,
   "id": "4c526f49",
   "metadata": {
    "ExecuteTime": {
     "end_time": "2022-11-10T06:34:07.287086Z",
     "start_time": "2022-11-10T06:34:07.267734Z"
    }
   },
   "outputs": [
    {
     "name": "stdout",
     "output_type": "stream",
     "text": [
      "Significnace=0.050, p=0.810\n",
      "We accept Null hypothesis\n"
     ]
    }
   ],
   "source": [
    "alpha = 0.05\n",
    "print('Significnace=%.3f, p=%.3f' % (alpha, p_value))\n",
    "if p_value <= alpha:\n",
    "    print('We reject Null Hypothesis there is a significance difference between TAT of reports of the laboratories')\n",
    "else:\n",
    "    print('We accept Null hypothesis')\n"
   ]
  },
  {
   "cell_type": "code",
   "execution_count": 15,
   "id": "ca900fb5",
   "metadata": {
    "ExecuteTime": {
     "end_time": "2022-11-10T06:34:07.711348Z",
     "start_time": "2022-11-10T06:34:07.695504Z"
    }
   },
   "outputs": [],
   "source": [
    "# Hence,We accept Null Hypothesis.Therefore,there is no association or dependency between male-female buyers rations and are similar across regions."
   ]
  },
  {
   "cell_type": "code",
   "execution_count": null,
   "id": "48a2c63c",
   "metadata": {},
   "outputs": [],
   "source": []
  },
  {
   "cell_type": "code",
   "execution_count": null,
   "id": "8fdc1cbc",
   "metadata": {},
   "outputs": [],
   "source": []
  },
  {
   "cell_type": "code",
   "execution_count": null,
   "id": "0f97f12a",
   "metadata": {},
   "outputs": [],
   "source": []
  }
 ],
 "metadata": {
  "kernelspec": {
   "display_name": "Python 3 (ipykernel)",
   "language": "python",
   "name": "python3"
  },
  "language_info": {
   "codemirror_mode": {
    "name": "ipython",
    "version": 3
   },
   "file_extension": ".py",
   "mimetype": "text/x-python",
   "name": "python",
   "nbconvert_exporter": "python",
   "pygments_lexer": "ipython3",
   "version": "3.9.12"
  }
 },
 "nbformat": 4,
 "nbformat_minor": 5
}
